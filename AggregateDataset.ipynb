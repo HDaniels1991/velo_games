{
 "cells": [
  {
   "cell_type": "markdown",
   "metadata": {},
   "source": [
    "# Aggregate Dataset"
   ]
  },
  {
   "cell_type": "code",
   "execution_count": 11,
   "metadata": {},
   "outputs": [],
   "source": [
    "import pandas as pd"
   ]
  },
  {
   "cell_type": "markdown",
   "metadata": {},
   "source": [
    "## import datasets"
   ]
  },
  {
   "cell_type": "code",
   "execution_count": 12,
   "metadata": {},
   "outputs": [],
   "source": [
    "#import cycling stats\n",
    "cs_data = pd.read_pickle('cs_rider_results.pkl')"
   ]
  },
  {
   "cell_type": "code",
   "execution_count": 13,
   "metadata": {},
   "outputs": [],
   "source": [
    "#import vh stats\n",
    "vg_data = pd.read_pickle('vg_rider_list.pkl')"
   ]
  },
  {
   "cell_type": "code",
   "execution_count": 14,
   "metadata": {},
   "outputs": [],
   "source": [
    "#import mapping table\n",
    "map_table = pd.read_pickle('cs_vg_match.pkl')\n",
    "map_dict = dict(zip(map_table.cs_rider,map_table.vg_rider))"
   ]
  },
  {
   "cell_type": "code",
   "execution_count": 15,
   "metadata": {},
   "outputs": [],
   "source": [
    "#Map VG rider_names onto CS table.\n",
    "cs_data['vg_rider'] = cs_data.rider_name.map(map_dict)"
   ]
  },
  {
   "cell_type": "markdown",
   "metadata": {},
   "source": [
    "## Apply VG Scoring Method"
   ]
  },
  {
   "cell_type": "code",
   "execution_count": 6,
   "metadata": {},
   "outputs": [],
   "source": [
    "cs_data = cs_data[['date','vg_rider','race','result']]"
   ]
  },
  {
   "cell_type": "code",
   "execution_count": 7,
   "metadata": {},
   "outputs": [],
   "source": [
    "### remove DNS DNF\n",
    "cs_data = cs_data[-cs_data.result.isin(['DNS','DNF'])]"
   ]
  },
  {
   "cell_type": "code",
   "execution_count": 8,
   "metadata": {},
   "outputs": [],
   "source": [
    "## scrape scoring:\n",
    "scores = pd.read_html('https://www.velogames.com/italy/2019/scores.php')[0]\n",
    "scores.Position = [''.join([y for y in x if y.isdigit()]) for x in scores.Position]"
   ]
  },
  {
   "cell_type": "code",
   "execution_count": 9,
   "metadata": {},
   "outputs": [],
   "source": [
    "data = pd.merge(cs_data,scores,how='left',left_on='result',right_on='Position').fillna(0)"
   ]
  },
  {
   "cell_type": "code",
   "execution_count": 10,
   "metadata": {},
   "outputs": [],
   "source": [
    "data = data[['date','vg_rider','race','Points']]\n",
    "data.columns = ['date','vg_rider','race','vg_points']"
   ]
  },
  {
   "cell_type": "markdown",
   "metadata": {},
   "source": [
    "## VG Points Table"
   ]
  },
  {
   "cell_type": "code",
   "execution_count": 101,
   "metadata": {},
   "outputs": [
    {
     "data": {
      "text/html": [
       "<div>\n",
       "<style scoped>\n",
       "    .dataframe tbody tr th:only-of-type {\n",
       "        vertical-align: middle;\n",
       "    }\n",
       "\n",
       "    .dataframe tbody tr th {\n",
       "        vertical-align: top;\n",
       "    }\n",
       "\n",
       "    .dataframe thead th {\n",
       "        text-align: right;\n",
       "    }\n",
       "</style>\n",
       "<table border=\"1\" class=\"dataframe\">\n",
       "  <thead>\n",
       "    <tr style=\"text-align: right;\">\n",
       "      <th></th>\n",
       "      <th>date</th>\n",
       "      <th>vg_rider</th>\n",
       "      <th>race</th>\n",
       "      <th>vg_points</th>\n",
       "    </tr>\n",
       "  </thead>\n",
       "  <tbody>\n",
       "    <tr>\n",
       "      <th>0</th>\n",
       "      <td>2019-05-04</td>\n",
       "      <td>Mikel Landa</td>\n",
       "      <td>Stage 2 - Soto de Ribera › Cangas del Narcea</td>\n",
       "      <td>150.0</td>\n",
       "    </tr>\n",
       "    <tr>\n",
       "      <th>1</th>\n",
       "      <td>2019-05-03</td>\n",
       "      <td>Mikel Landa</td>\n",
       "      <td>Stage 1 - Oviedo › Pola de Lena</td>\n",
       "      <td>25.0</td>\n",
       "    </tr>\n",
       "    <tr>\n",
       "      <th>2</th>\n",
       "      <td>2019-04-28</td>\n",
       "      <td>Mikel Landa</td>\n",
       "      <td>LiÃ¨ge-Bastogne-LiÃ¨ge (1.UWT)</td>\n",
       "      <td>60.0</td>\n",
       "    </tr>\n",
       "    <tr>\n",
       "      <th>3</th>\n",
       "      <td>2019-04-13</td>\n",
       "      <td>Mikel Landa</td>\n",
       "      <td>Stage 6 - Eibar › Eibar</td>\n",
       "      <td>60.0</td>\n",
       "    </tr>\n",
       "    <tr>\n",
       "      <th>4</th>\n",
       "      <td>2019-04-12</td>\n",
       "      <td>Mikel Landa</td>\n",
       "      <td>Stage 5 - Arrigorriaga › Arrate</td>\n",
       "      <td>60.0</td>\n",
       "    </tr>\n",
       "    <tr>\n",
       "      <th>5</th>\n",
       "      <td>2019-04-11</td>\n",
       "      <td>Mikel Landa</td>\n",
       "      <td>Stage 4 - Vitoria-Gasteiz › Arrigorriaga</td>\n",
       "      <td>25.0</td>\n",
       "    </tr>\n",
       "    <tr>\n",
       "      <th>6</th>\n",
       "      <td>2019-04-10</td>\n",
       "      <td>Mikel Landa</td>\n",
       "      <td>Stage 3 - Sarriguren › Estibaliz</td>\n",
       "      <td>20.0</td>\n",
       "    </tr>\n",
       "    <tr>\n",
       "      <th>7</th>\n",
       "      <td>2019-04-09</td>\n",
       "      <td>Mikel Landa</td>\n",
       "      <td>Stage 2 - Zumarraga › Gorraiz</td>\n",
       "      <td>0.0</td>\n",
       "    </tr>\n",
       "    <tr>\n",
       "      <th>8</th>\n",
       "      <td>2019-04-08</td>\n",
       "      <td>Mikel Landa</td>\n",
       "      <td>Stage 1 (ITT) - Zumarraga › Zumarraga</td>\n",
       "      <td>0.0</td>\n",
       "    </tr>\n",
       "    <tr>\n",
       "      <th>9</th>\n",
       "      <td>2019-03-31</td>\n",
       "      <td>Mikel Landa</td>\n",
       "      <td>Stage 5 - Fiorano Modenese › Sassuolo</td>\n",
       "      <td>0.0</td>\n",
       "    </tr>\n",
       "  </tbody>\n",
       "</table>\n",
       "</div>"
      ],
      "text/plain": [
       "        date     vg_rider                                          race  \\\n",
       "0 2019-05-04  Mikel Landa  Stage 2 - Soto de Ribera › Cangas del Narcea   \n",
       "1 2019-05-03  Mikel Landa               Stage 1 - Oviedo › Pola de Lena   \n",
       "2 2019-04-28  Mikel Landa                LiÃ¨ge-Bastogne-LiÃ¨ge (1.UWT)   \n",
       "3 2019-04-13  Mikel Landa                       Stage 6 - Eibar › Eibar   \n",
       "4 2019-04-12  Mikel Landa               Stage 5 - Arrigorriaga › Arrate   \n",
       "5 2019-04-11  Mikel Landa      Stage 4 - Vitoria-Gasteiz › Arrigorriaga   \n",
       "6 2019-04-10  Mikel Landa              Stage 3 - Sarriguren › Estibaliz   \n",
       "7 2019-04-09  Mikel Landa                 Stage 2 - Zumarraga › Gorraiz   \n",
       "8 2019-04-08  Mikel Landa         Stage 1 (ITT) - Zumarraga › Zumarraga   \n",
       "9 2019-03-31  Mikel Landa         Stage 5 - Fiorano Modenese › Sassuolo   \n",
       "\n",
       "   vg_points  \n",
       "0      150.0  \n",
       "1       25.0  \n",
       "2       60.0  \n",
       "3       60.0  \n",
       "4       60.0  \n",
       "5       25.0  \n",
       "6       20.0  \n",
       "7        0.0  \n",
       "8        0.0  \n",
       "9        0.0  "
      ]
     },
     "execution_count": 101,
     "metadata": {},
     "output_type": "execute_result"
    }
   ],
   "source": [
    "data.head(10)"
   ]
  },
  {
   "cell_type": "code",
   "execution_count": 103,
   "metadata": {},
   "outputs": [],
   "source": [
    "data.to_pickle('vg_points.pkl')"
   ]
  },
  {
   "cell_type": "code",
   "execution_count": 4,
   "metadata": {},
   "outputs": [],
   "source": [
    "data = pd.read_pickle('vg_points.pkl')"
   ]
  }
 ],
 "metadata": {
  "hide_input": false,
  "kernelspec": {
   "display_name": "Python 3",
   "language": "python",
   "name": "python3"
  },
  "language_info": {
   "codemirror_mode": {
    "name": "ipython",
    "version": 3
   },
   "file_extension": ".py",
   "mimetype": "text/x-python",
   "name": "python",
   "nbconvert_exporter": "python",
   "pygments_lexer": "ipython3",
   "version": "3.6.5"
  },
  "toc": {
   "base_numbering": 1,
   "nav_menu": {},
   "number_sections": true,
   "sideBar": true,
   "skip_h1_title": false,
   "title_cell": "Table of Contents",
   "title_sidebar": "Contents",
   "toc_cell": false,
   "toc_position": {},
   "toc_section_display": true,
   "toc_window_display": false
  }
 },
 "nbformat": 4,
 "nbformat_minor": 2
}
