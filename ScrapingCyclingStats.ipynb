{
 "cells": [
  {
   "cell_type": "markdown",
   "metadata": {},
   "source": [
    "# Scraping Cycling Stats"
   ]
  },
  {
   "cell_type": "code",
   "execution_count": 1,
   "metadata": {},
   "outputs": [],
   "source": [
    "import pandas as pd\n",
    "import requests\n",
    "import bs4"
   ]
  },
  {
   "cell_type": "code",
   "execution_count": 2,
   "metadata": {},
   "outputs": [],
   "source": [
    "#pretend to be a browser\n",
    "header = {\n",
    "  \"User-Agent\": \"Mozilla/5.0 (X11; Linux x86_64) AppleWebKit/537.36 (KHTML, like Gecko) Chrome/50.0.2661.75 Safari/537.36\",\n",
    "  \"X-Requested-With\": \"XMLHttpRequest\"\n",
    "}"
   ]
  },
  {
   "cell_type": "markdown",
   "metadata": {},
   "source": [
    "## get start list:"
   ]
  },
  {
   "cell_type": "markdown",
   "metadata": {},
   "source": [
    "### scraping 2019 giro-d-italia startlist"
   ]
  },
  {
   "cell_type": "code",
   "execution_count": 430,
   "metadata": {},
   "outputs": [],
   "source": [
    "resp = requests.get('https://www.procyclingstats.com/race/giro-d-italia/2019/gc/startlist',headers=header).text"
   ]
  },
  {
   "cell_type": "code",
   "execution_count": 431,
   "metadata": {},
   "outputs": [],
   "source": [
    "# use beautiful soup to parse response\n",
    "soup = bs4.BeautifulSoup(resp,'lxml')"
   ]
  },
  {
   "cell_type": "code",
   "execution_count": 449,
   "metadata": {},
   "outputs": [],
   "source": [
    "startlist = pd.DataFrame()\n",
    "\n",
    "for team in soup.findAll('li',{'class':'team'}):\n",
    "    tmp_dict = {}\n",
    "    #team\n",
    "    team_name = team.find_next('h4').text.split('.')[1].strip()\n",
    "    tmp_dict['team_name'] = team_name\n",
    "    #riders\n",
    "    riders = team.findAll('a',{'class':'rider'})\n",
    "    tmp_dict['rider_name'] = [x.text for x in riders]\n",
    "    base_url = 'https://www.procyclingstats.com/'\n",
    "    tmp_dict['rider_link'] = [base_url + x['href'] for x in riders]\n",
    "    tmp_df = pd.DataFrame(tmp_dict)\n",
    "    startlist = startlist.append(tmp_df,ignore_index=True)"
   ]
  },
  {
   "cell_type": "code",
   "execution_count": 433,
   "metadata": {},
   "outputs": [
    {
     "data": {
      "text/html": [
       "<div>\n",
       "<style scoped>\n",
       "    .dataframe tbody tr th:only-of-type {\n",
       "        vertical-align: middle;\n",
       "    }\n",
       "\n",
       "    .dataframe tbody tr th {\n",
       "        vertical-align: top;\n",
       "    }\n",
       "\n",
       "    .dataframe thead th {\n",
       "        text-align: right;\n",
       "    }\n",
       "</style>\n",
       "<table border=\"1\" class=\"dataframe\">\n",
       "  <thead>\n",
       "    <tr style=\"text-align: right;\">\n",
       "      <th></th>\n",
       "      <th>rider_links</th>\n",
       "      <th>rider_name</th>\n",
       "      <th>team_name</th>\n",
       "    </tr>\n",
       "  </thead>\n",
       "  <tbody>\n",
       "    <tr>\n",
       "      <th>0</th>\n",
       "      <td>https://www.procyclingstats.com/rider/mikel-landa</td>\n",
       "      <td>LANDA Mikel</td>\n",
       "      <td>Movistar Team</td>\n",
       "    </tr>\n",
       "    <tr>\n",
       "      <th>1</th>\n",
       "      <td>https://www.procyclingstats.com/rider/andrey-a...</td>\n",
       "      <td>AMADOR Andrey</td>\n",
       "      <td>Movistar Team</td>\n",
       "    </tr>\n",
       "    <tr>\n",
       "      <th>2</th>\n",
       "      <td>https://www.procyclingstats.com/rider/richard-...</td>\n",
       "      <td>CARAPAZ Richard</td>\n",
       "      <td>Movistar Team</td>\n",
       "    </tr>\n",
       "    <tr>\n",
       "      <th>3</th>\n",
       "      <td>https://www.procyclingstats.com/rider/hector-c...</td>\n",
       "      <td>CARRETERO HÃ©ctor</td>\n",
       "      <td>Movistar Team</td>\n",
       "    </tr>\n",
       "    <tr>\n",
       "      <th>4</th>\n",
       "      <td>https://www.procyclingstats.com/rider/lluis-gu...</td>\n",
       "      <td>MAS LluÃ­s</td>\n",
       "      <td>Movistar Team</td>\n",
       "    </tr>\n",
       "  </tbody>\n",
       "</table>\n",
       "</div>"
      ],
      "text/plain": [
       "                                         rider_links         rider_name  \\\n",
       "0  https://www.procyclingstats.com/rider/mikel-landa        LANDA Mikel   \n",
       "1  https://www.procyclingstats.com/rider/andrey-a...      AMADOR Andrey   \n",
       "2  https://www.procyclingstats.com/rider/richard-...    CARAPAZ Richard   \n",
       "3  https://www.procyclingstats.com/rider/hector-c...  CARRETERO HÃ©ctor   \n",
       "4  https://www.procyclingstats.com/rider/lluis-gu...         MAS LluÃ­s   \n",
       "\n",
       "       team_name  \n",
       "0  Movistar Team  \n",
       "1  Movistar Team  \n",
       "2  Movistar Team  \n",
       "3  Movistar Team  \n",
       "4  Movistar Team  "
      ]
     },
     "execution_count": 433,
     "metadata": {},
     "output_type": "execute_result"
    }
   ],
   "source": [
    "startlist.head()"
   ]
  },
  {
   "cell_type": "markdown",
   "metadata": {},
   "source": [
    "## Get rider race results"
   ]
  },
  {
   "cell_type": "markdown",
   "metadata": {},
   "source": [
    "### Function scraping rider races"
   ]
  },
  {
   "cell_type": "code",
   "execution_count": 437,
   "metadata": {},
   "outputs": [],
   "source": [
    "def get_race_results(url):\n",
    "    resp = requests.get(url,headers=header).text\n",
    "    soup = bs4.BeautifulSoup(resp,'lxml')\n",
    "    results = soup.findAll('div',{'class':'results'})[0]\n",
    "    \n",
    "    #get rows\n",
    "    races = []\n",
    "    for race in results.findAll('ul',{'class':'prres'})[0].findAll('li'):\n",
    "        race = race.findAll('div')\n",
    "        #if len(race) <= 9:\n",
    "        row = [x.text for x in race[:9]]\n",
    "        races.append(row)\n",
    "    races = pd.DataFrame(races)\n",
    "    \n",
    "    #get header\n",
    "    results_header = [x.text for x in results.findAll('ul',{'class':'prresHead'})[0].findAll('li')]\n",
    "    races.columns = results_header\n",
    "    \n",
    "    #drop subtitles, only consider results (inc classifications)\n",
    "    races = races[races.Result != '']\n",
    "    races = races.iloc[:,:8]\n",
    "    \n",
    "    return races\n"
   ]
  },
  {
   "cell_type": "markdown",
   "metadata": {},
   "source": [
    "### Iterating through start list for rider stats"
   ]
  },
  {
   "cell_type": "code",
   "execution_count": 445,
   "metadata": {},
   "outputs": [],
   "source": [
    "data = pd.DataFrame()\n",
    "\n",
    "years = ['2019','2018','2017']\n",
    "\n",
    "for i,j in startlist.iterrows():\n",
    "    \n",
    "    #for each rider\n",
    "    rider_name = j['rider_name']\n",
    "    rider_link = j['rider_link']\n",
    "    \n",
    "    #for the last three years:\n",
    "    for year in years:\n",
    "        \n",
    "        url = '{}/{}'.format(rider_link,year)\n",
    "        \n",
    "        try:\n",
    "            tmp_df = get_race_results(url)\n",
    "        except:\n",
    "            print(rider_name,year,'failed')\n",
    "            \n",
    "        tmp_df['rider_name'] = rider_name\n",
    "        tmp_df['year'] = year\n",
    "        \n",
    "        data = data.append(tmp_df,ignore_index=True)\n"
   ]
  },
  {
   "cell_type": "markdown",
   "metadata": {},
   "source": [
    "### Clean further"
   ]
  },
  {
   "cell_type": "code",
   "execution_count": 476,
   "metadata": {},
   "outputs": [],
   "source": [
    "#remove empty field\n",
    "data_cols = ['Date', 'Result','Race', 'Distance', 'PointsPCS',\n",
    "             'PointsUCI', 'rider_name', 'year']\n",
    "data = data[data_cols]\n",
    "\n",
    "#remove missing dates i.e. classifications\n",
    "data = data[data.Date != ''].reset_index(drop=True)\n",
    "\n",
    "#lower case cols\n",
    "data.columns = [x.lower() for x in data.columns]"
   ]
  },
  {
   "cell_type": "markdown",
   "metadata": {},
   "source": [
    "#### Fix dates"
   ]
  },
  {
   "cell_type": "code",
   "execution_count": 493,
   "metadata": {},
   "outputs": [],
   "source": [
    "#create date\n",
    "def make_date(x):\n",
    "    day_month = x.date.split('.')\n",
    "    day = day_month[0]\n",
    "    month = day_month[1]\n",
    "    year = x.year\n",
    "    date = '{}-{}-{}'.format(year,month,day)\n",
    "    return pd.to_datetime(date)"
   ]
  },
  {
   "cell_type": "code",
   "execution_count": 494,
   "metadata": {},
   "outputs": [],
   "source": [
    "data['date'] = data.apply(make_date,1)"
   ]
  },
  {
   "cell_type": "code",
   "execution_count": 495,
   "metadata": {},
   "outputs": [
    {
     "data": {
      "text/html": [
       "<div>\n",
       "<style scoped>\n",
       "    .dataframe tbody tr th:only-of-type {\n",
       "        vertical-align: middle;\n",
       "    }\n",
       "\n",
       "    .dataframe tbody tr th {\n",
       "        vertical-align: top;\n",
       "    }\n",
       "\n",
       "    .dataframe thead th {\n",
       "        text-align: right;\n",
       "    }\n",
       "</style>\n",
       "<table border=\"1\" class=\"dataframe\">\n",
       "  <thead>\n",
       "    <tr style=\"text-align: right;\">\n",
       "      <th></th>\n",
       "      <th>date</th>\n",
       "      <th>result</th>\n",
       "      <th>race</th>\n",
       "      <th>distance</th>\n",
       "      <th>pointspcs</th>\n",
       "      <th>pointsuci</th>\n",
       "      <th>rider_name</th>\n",
       "      <th>year</th>\n",
       "    </tr>\n",
       "  </thead>\n",
       "  <tbody>\n",
       "    <tr>\n",
       "      <th>0</th>\n",
       "      <td>2019-05-05</td>\n",
       "      <td>DNS</td>\n",
       "      <td>Stage 3 - Cangas del Narcea › Oviedo</td>\n",
       "      <td>119</td>\n",
       "      <td></td>\n",
       "      <td></td>\n",
       "      <td>LANDA Mikel</td>\n",
       "      <td>2019</td>\n",
       "    </tr>\n",
       "    <tr>\n",
       "      <th>1</th>\n",
       "      <td>2019-05-04</td>\n",
       "      <td>2</td>\n",
       "      <td>Stage 2 - Soto de Ribera › Cangas del Narcea</td>\n",
       "      <td>171.1</td>\n",
       "      <td>12</td>\n",
       "      <td>5</td>\n",
       "      <td>LANDA Mikel</td>\n",
       "      <td>2019</td>\n",
       "    </tr>\n",
       "    <tr>\n",
       "      <th>2</th>\n",
       "      <td>2019-05-03</td>\n",
       "      <td>11</td>\n",
       "      <td>Stage 1 - Oviedo › Pola de Lena</td>\n",
       "      <td>179.2</td>\n",
       "      <td></td>\n",
       "      <td></td>\n",
       "      <td>LANDA Mikel</td>\n",
       "      <td>2019</td>\n",
       "    </tr>\n",
       "    <tr>\n",
       "      <th>3</th>\n",
       "      <td>2019-04-28</td>\n",
       "      <td>7</td>\n",
       "      <td>LiÃ¨ge-Bastogne-LiÃ¨ge (1.UWT)</td>\n",
       "      <td>256</td>\n",
       "      <td>80</td>\n",
       "      <td>150</td>\n",
       "      <td>LANDA Mikel</td>\n",
       "      <td>2019</td>\n",
       "    </tr>\n",
       "    <tr>\n",
       "      <th>4</th>\n",
       "      <td>2019-04-13</td>\n",
       "      <td>7</td>\n",
       "      <td>Stage 6 - Eibar › Eibar</td>\n",
       "      <td>118.2</td>\n",
       "      <td>4</td>\n",
       "      <td></td>\n",
       "      <td>LANDA Mikel</td>\n",
       "      <td>2019</td>\n",
       "    </tr>\n",
       "  </tbody>\n",
       "</table>\n",
       "</div>"
      ],
      "text/plain": [
       "        date result                                          race distance  \\\n",
       "0 2019-05-05    DNS          Stage 3 - Cangas del Narcea › Oviedo      119   \n",
       "1 2019-05-04      2  Stage 2 - Soto de Ribera › Cangas del Narcea    171.1   \n",
       "2 2019-05-03     11               Stage 1 - Oviedo › Pola de Lena    179.2   \n",
       "3 2019-04-28      7                LiÃ¨ge-Bastogne-LiÃ¨ge (1.UWT)      256   \n",
       "4 2019-04-13      7                       Stage 6 - Eibar › Eibar    118.2   \n",
       "\n",
       "  pointspcs pointsuci   rider_name  year  \n",
       "0                      LANDA Mikel  2019  \n",
       "1        12         5  LANDA Mikel  2019  \n",
       "2                      LANDA Mikel  2019  \n",
       "3        80       150  LANDA Mikel  2019  \n",
       "4         4            LANDA Mikel  2019  "
      ]
     },
     "execution_count": 495,
     "metadata": {},
     "output_type": "execute_result"
    }
   ],
   "source": [
    "data.head()"
   ]
  },
  {
   "cell_type": "code",
   "execution_count": 500,
   "metadata": {},
   "outputs": [],
   "source": [
    "data.to_pickle('rider_results.pkl')"
   ]
  }
 ],
 "metadata": {
  "hide_input": false,
  "kernelspec": {
   "display_name": "Python 3",
   "language": "python",
   "name": "python3"
  },
  "language_info": {
   "codemirror_mode": {
    "name": "ipython",
    "version": 3
   },
   "file_extension": ".py",
   "mimetype": "text/x-python",
   "name": "python",
   "nbconvert_exporter": "python",
   "pygments_lexer": "ipython3",
   "version": "3.6.5"
  },
  "toc": {
   "base_numbering": 1,
   "nav_menu": {},
   "number_sections": true,
   "sideBar": true,
   "skip_h1_title": false,
   "title_cell": "Table of Contents",
   "title_sidebar": "Contents",
   "toc_cell": false,
   "toc_position": {},
   "toc_section_display": true,
   "toc_window_display": false
  }
 },
 "nbformat": 4,
 "nbformat_minor": 2
}
